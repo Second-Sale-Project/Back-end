{
 "cells": [
  {
   "cell_type": "code",
   "execution_count": 1,
   "metadata": {
    "scrolled": true
   },
   "outputs": [
    {
     "name": "stdout",
     "output_type": "stream",
     "text": [
      "Populating the interactive namespace from numpy and matplotlib\n"
     ]
    }
   ],
   "source": [
    "#pylab是 Matlotlib和 Ipython提供的一個模板，提供類似 Matlab的語法\n",
    "%pylab inline\n",
    "\n",
    "\n",
    "import numpy as np\n",
    "from sklearn.neighbors import NearestNeighbors\n",
    "import os\n",
    "import pandas as pd\n",
    "from random import shuffle\n",
    "\n",
    "from evaluator import Evaluator\n",
    "from dataset_handler import DatasetHandler"
   ]
  },
  {
   "cell_type": "code",
   "execution_count": 2,
   "metadata": {},
   "outputs": [],
   "source": [
    "db_settings = {\n",
    "    \"host\": \"127.0.0.1\",\n",
    "    \"port\": 3306,\n",
    "    \"user\": \"root\",\n",
    "    \"password\": \"\",\n",
    "    \"db\": \"recommandation\",\n",
    "    \"charset\": \"utf8\"\n",
    "}"
   ]
  },
  {
   "cell_type": "code",
   "execution_count": 3,
   "metadata": {},
   "outputs": [],
   "source": [
    "#宣告 dataset_handler透過 dataset_handler module來執行 dataset100k檔案\n",
    "dataset_handler = DatasetHandler(0)\n",
    "\n",
    "#宣告 user_ratings執行上述 module中的 load_users_ratings()函式\n",
    "usr_ratings = dataset_handler.create_rating(db_settings)\n",
    "\n",
    "#紀錄商品數\n",
    "product_amount = dataset_handler.count_product(db_settings)"
   ]
  },
  {
   "cell_type": "code",
   "execution_count": 4,
   "metadata": {},
   "outputs": [
    {
     "name": "stdout",
     "output_type": "stream",
     "text": [
      "Please enter the user ID:3\n"
     ]
    }
   ],
   "source": [
    "#模擬app輸出使用者編號\n",
    "uid = int(input(\"Please enter the user ID:\"))"
   ]
  },
  {
   "cell_type": "code",
   "execution_count": 5,
   "metadata": {},
   "outputs": [],
   "source": [
    "class ContentBasedRecommender(object):\n",
    "    \n",
    "    #計算相似矩陣\n",
    "    product_similarity = {}\n",
    "    \n",
    "    #存取content-based排列過的推薦陣列\n",
    "    content_sort = []\n",
    "    \n",
    "    def __init__(self, dataset_handler):\n",
    "        \n",
    "        self.dataset_handler = dataset_handler\n",
    "        \n",
    "        # product_vectors來執行 DatasetHandler的 load_product()函式\n",
    "        self.product_vectors = self.dataset_handler.load_product(db_settings)\n",
    "    \n",
    "    def train(self, train_set):\n",
    "        pass\n",
    "    \n",
    "    def top(self, user_profile, usr_ratings, topN):\n",
    "        \n",
    "        self.top = self._cosineKNN_all_product(usr_profile[0], topN)\n",
    "        \n",
    "        for i in usr_ratings:\n",
    "            \n",
    "            self.top.remove(i)\n",
    "        \n",
    "        #跑 _cosineKNN函式\n",
    "        return self.top\n",
    "        \n",
    "    def create_user_profile(self, usr_ratings):\n",
    "        \n",
    "        #用以複製user ratings\n",
    "        copy = []\n",
    "        \n",
    "        for i in usr_ratings:\n",
    "            copy.append(usr_ratings[i])\n",
    "        \n",
    "        #存放加權分數陣列\n",
    "        w_values = []\n",
    "        \n",
    "        #讀取資料庫使用者最愛分類存到product_feature\n",
    "        feature_vectors = self.dataset_handler.load_favor(db_settings, uid)\n",
    "        product_feature = feature_vectors[0]\n",
    "        \n",
    "        #計算使用者各分類的加權分數\n",
    "        w_value = np.average(\n",
    "                    np.array([\n",
    "                        self.product_vectors[self.dataset_handler.id2index1(product)]\n",
    "                        for (product, rating) in usr_ratings.items()\n",
    "                    ]),\n",
    "                    axis=0,\n",
    "                    weights=copy\n",
    "\n",
    "                )\n",
    "        \n",
    "        #將w_value乘上w_values形成最終加權分數\n",
    "        for i in range(len(w_value)):\n",
    "            \n",
    "            num1 = w_value[i]\n",
    "            num2 = product_feature[i]\n",
    "            value = num1 * num2\n",
    "            w_values.append(value)\n",
    "        \n",
    "        return (w_values, usr_ratings)\n",
    "    \n",
    "    def present_user_profile(self, user_profile):\n",
    "        \n",
    "        #印出user資訊及與其有關的電影評分\n",
    "        print(\"User favourite classification:\", self.dataset_handler.feature_index2sort(np.argmax(user_profile[0])))\n",
    "        print(\"User ratings:\")\n",
    "        for (productId, rating) in user_profile[1].items():\n",
    "            product_vector = self.product_vectors[self.dataset_handler.id2index1(productId)]\n",
    "            print(\"{} {}: {}\".format(\n",
    "                self.dataset_handler.id_to_product_name[productId],\n",
    "                self.dataset_handler.product_vector2sort(product_vector),\n",
    "                rating\n",
    "            ))\n",
    "    \n",
    "    def present_recommendations(self, recommendations):\n",
    "        \n",
    "        #印出content-based的推薦電影\n",
    "        print(\"Recommended product in content-based:\")\n",
    "        for productId in recommendations:\n",
    "            product_vector = self.product_vectors[self.dataset_handler.id2index1(productId)]\n",
    "            print(\"{} {}\".format(\n",
    "                self.dataset_handler.id_to_product_name[productId],\n",
    "                self.dataset_handler.product_vector2sort(product_vector)\n",
    "            ))\n",
    "    \n",
    "    def _cosineKNN_all_product(self, usr_profile, k):\n",
    "        \n",
    "        #利用KNN演算法算出推薦順序\n",
    "        nbrs = NearestNeighbors(metric='cosine', algorithm='brute')\n",
    "        nbrs.fit(self.product_vectors)\n",
    "        \n",
    "        content_sort = self.dataset_handler.indices2ids1(nbrs.kneighbors(np.array([usr_profile]), k, return_distance=False)[0])\n",
    "        \n",
    "        return self.dataset_handler.indices2ids1(nbrs.kneighbors(np.array([usr_profile]), k, return_distance=False)[0])\n",
    "    \n",
    "    def itemCF(self, usr_ratings):\n",
    "        \n",
    "        #根據使用者跟產品相關的評分進行計算次數\n",
    "        product_rate_count = dict()\n",
    "\n",
    "        #共現矩陣\n",
    "        product_cuv_matrix = dict()\n",
    "        \n",
    "        #根據所有使用者建立矩陣\n",
    "        for user_id, product_ids in usr_ratings.items():\n",
    "            for i in product_ids.keys():\n",
    "                product_rate_count.setdefault(i, 0)\n",
    "                product_rate_count[i] += 1\n",
    "\n",
    "                for j in product_ids.keys():\n",
    "                    if i == j:\n",
    "                        continue\n",
    "\n",
    "                    product_cuv_matrix.setdefault(i, dict())\n",
    "                    product_cuv_matrix[i].setdefault(j, 0)\n",
    "                    product_cuv_matrix[i][j] += 1\n",
    "        \n",
    "        #根據上述矩陣建立相似矩陣\n",
    "        for i, product_ids in product_cuv_matrix.items():\n",
    "            self.product_similarity.setdefault(i, dict())\n",
    "\n",
    "            for j, cuv in product_ids.items():\n",
    "                similarity = cuv / math.sqrt(product_rate_count[i] * product_rate_count[j])\n",
    "                self.product_similarity[i].setdefault(j, 0)\n",
    "                self.product_similarity[i][j] = similarity\n",
    "        \n",
    "    def recommend(self, uid, usr_ratings, counter):\n",
    "        \n",
    "        rank = dict()\n",
    "        top_n_product = dict()\n",
    "        user_rate_product = usr_ratings.get(uid, {})\n",
    "        \n",
    "        #根據相似矩陣跟使用者產品評分進行推薦\n",
    "        for i, rate in user_rate_product.items():\n",
    "        \n",
    "            top_n_product = dict(sorted(self.product_similarity[i].items(),\n",
    "            key = lambda x:x[1], reverse = True)[0:counter])\n",
    "\n",
    "            for j, similarity in top_n_product.items():\n",
    "                if j in user_rate_product:\n",
    "                    continue\n",
    "                rank.setdefault(j, 0)\n",
    "                rank[j] += rate * similarity\n",
    "        \n",
    "        #依據分數高低進行排列\n",
    "        result = dict(sorted(rank.items(), key = lambda x:x[1], reverse = True)[0:counter])\n",
    "\n",
    "        return result\n",
    "    \n",
    "    def combined_recommend(self, result):\n",
    "        final = {}\n",
    "        Counter = 0\n",
    "        Count = 0\n",
    "        \n",
    "        for ids in self.top:\n",
    "            Count += 1\n",
    "            Counter = 0\n",
    "            for ids2 in result:\n",
    "\n",
    "                Counter += 1\n",
    "                if ids == ids2:\n",
    "                    final[int(ids)] = Counter + Count\n",
    "                    break\n",
    "                else:\n",
    "                    final[int(ids)] = Count + len(result) + 1\n",
    "\n",
    "        combine_recommend = dict(sorted(final.items(), key = lambda x:x[1], reverse = False)[0:product_amount])\n",
    "        \n",
    "        return combine_recommend"
   ]
  },
  {
   "cell_type": "code",
   "execution_count": 6,
   "metadata": {},
   "outputs": [
    {
     "name": "stdout",
     "output_type": "stream",
     "text": [
      "User favourite classification: wallet\n",
      "User ratings:\n",
      "p ['yellow', 'aaa', 'wallet']: 5\n",
      "b ['black', 'bbb', 'bag']: 5\n",
      "c ['red', 'eee', 'wallet']: 5\n",
      "t ['yellow', 'ccc', 'bag']: 3\n",
      "i ['yellow', 'eee', 'bag']: 3\n",
      "j ['white', 'bbb', 'wallet']: 3\n",
      "n ['yellow', 'ddd', 'bag']: 3\n"
     ]
    }
   ],
   "source": [
    "recommender = ContentBasedRecommender(dataset_handler)\n",
    "usr_profile = recommender.create_user_profile(usr_ratings[uid])\n",
    "recommender.present_user_profile(usr_profile)"
   ]
  },
  {
   "cell_type": "code",
   "execution_count": 7,
   "metadata": {},
   "outputs": [
    {
     "name": "stdout",
     "output_type": "stream",
     "text": [
      "Recommended product in content-based:\n",
      "q ['yellow', 'aaa', 'wallet']\n",
      "d ['red', 'aaa', 'wallet']\n",
      "l ['black', 'eee', 'wallet']\n",
      "a ['black', 'ccc', 'wallet']\n",
      "g ['yellow', 'eee', 'bag']\n",
      "m ['white', 'ccc', 'wallet']\n",
      "s ['blue', 'bbb', 'wallet']\n",
      "e ['yellow', 'ccc', 'bag']\n",
      "r ['red', 'bbb', 'bag']\n",
      "k ['yellow', 'ddd', 'bag']\n",
      "h ['red', 'aaa', 'bag']\n",
      "f ['black', 'aaa', 'bag']\n",
      "o ['white', 'aaa', 'bag']\n"
     ]
    }
   ],
   "source": [
    "top = recommender.top(usr_profile, usr_ratings[uid], topN=product_amount)\n",
    "recommender.present_recommendations(top)"
   ]
  },
  {
   "cell_type": "code",
   "execution_count": 8,
   "metadata": {},
   "outputs": [
    {
     "name": "stdout",
     "output_type": "stream",
     "text": [
      "Recommended product in itemCF:\n",
      "Product ID: 6  / Product Name: f  / Rate: 9.782823076116511\n",
      "Product ID: 4  / Product Name: d  / Rate: 9.599319657044237\n",
      "Product ID: 19  / Product Name: s  / Rate: 9.599319657044237\n",
      "Product ID: 17  / Product Name: q  / Rate: 8.490731195102494\n",
      "Product ID: 8  / Product Name: h  / Rate: 5.9907311951024935\n",
      "Product ID: 7  / Product Name: g  / Rate: 5.9907311951024935\n",
      "Product ID: 12  / Product Name: l  / Rate: 5.765986323710905\n",
      "Product ID: 5  / Product Name: e  / Rate: 5.224744871391589\n",
      "Product ID: 11  / Product Name: k  / Rate: 3.85337115112852\n",
      "Product ID: 13  / Product Name: m  / Rate: 3.85337115112852\n",
      "Product ID: 1  / Product Name: a  / Rate: 3.5355339059327373\n"
     ]
    }
   ],
   "source": [
    "item_CF = recommender.itemCF(usr_ratings)\n",
    "\n",
    "results = recommender.recommend(uid, usr_ratings, product_amount)\n",
    "    \n",
    "print(\"Recommended product in itemCF:\")\n",
    "products = dataset_handler.read_product(db_settings)\n",
    "      \n",
    "for product_id, rate in results.items():\n",
    "    print('Product ID:', product_id, \" / Product Name:\", products[product_id], \" / Rate:\", rate)"
   ]
  },
  {
   "cell_type": "code",
   "execution_count": 9,
   "metadata": {},
   "outputs": [
    {
     "name": "stdout",
     "output_type": "stream",
     "text": [
      "Recommended product in combine:\n",
      "Product ID: 4  / Product Name: d\n",
      "Product ID: 17  / Product Name: q\n",
      "Product ID: 12  / Product Name: l\n",
      "Product ID: 19  / Product Name: s\n",
      "Product ID: 7  / Product Name: g\n",
      "Product ID: 6  / Product Name: f\n",
      "Product ID: 1  / Product Name: a\n",
      "Product ID: 13  / Product Name: m\n",
      "Product ID: 5  / Product Name: e\n",
      "Product ID: 8  / Product Name: h\n",
      "Product ID: 11  / Product Name: k\n",
      "Product ID: 18  / Product Name: r\n",
      "Product ID: 15  / Product Name: o\n"
     ]
    }
   ],
   "source": [
    "final_recommend = recommender.combined_recommend(results)\n",
    "\n",
    "print(\"Recommended product in combine:\")\n",
    "      \n",
    "for product_ids in final_recommend.items():\n",
    "    \n",
    "    print('Product ID:', product_ids[0], \" / Product Name:\", products[product_ids[0]])"
   ]
  }
 ],
 "metadata": {
  "kernelspec": {
   "display_name": "Python 3",
   "language": "python",
   "name": "python3"
  },
  "language_info": {
   "codemirror_mode": {
    "name": "ipython",
    "version": 3
   },
   "file_extension": ".py",
   "mimetype": "text/x-python",
   "name": "python",
   "nbconvert_exporter": "python",
   "pygments_lexer": "ipython3",
   "version": "3.7.6"
  }
 },
 "nbformat": 4,
 "nbformat_minor": 4
}
