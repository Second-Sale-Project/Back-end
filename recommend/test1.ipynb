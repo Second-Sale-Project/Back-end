{
 "cells": [
  {
   "cell_type": "code",
   "execution_count": 8,
   "metadata": {},
   "outputs": [],
   "source": [
    "import numpy as np\n",
    "import os\n",
    "import pandas as pd\n",
    "import math\n",
    "from random import shuffle\n",
    "from sklearn import datasets"
   ]
  },
  {
   "cell_type": "code",
   "execution_count": 9,
   "metadata": {},
   "outputs": [],
   "source": [
    "class ItemCF(object):\n",
    "    #def __init__(self, data_file_path):\n",
    "     #   self.data_file_path = data_file_path\n",
    "        \n",
    "    dataset = dict()\n",
    "    movie_similarity = {}\n",
    "        \n",
    "        \n",
    "    def __init__(self, data_file_path):\n",
    "        rating_column_name = ['user_id', 'movie_id', 'rating', 'timestamp']\n",
    "        ratings = pd.read_table(data_file_path, sep = '::', header = None, names = rating_column_name, engine = 'python')\n",
    "        #dataset = dict()\n",
    "        \n",
    "\n",
    "        for row in ratings.itertuples():\n",
    "            user_id = getattr(row, 'user_id')\n",
    "            movie_id = getattr(row, 'movie_id')\n",
    "            rate = getattr(row, 'rating')\n",
    "            self.dataset.setdefault(user_id, {})\n",
    "            self.dataset[user_id][movie_id] = rate\n",
    "            \n",
    "        print('complete')\n",
    "    \n",
    "    \n",
    "    #def __item_similarity(self):\n",
    "        #評分次數\n",
    "        movie_rate_count = dict()\n",
    "\n",
    "        #共現矩陣\n",
    "        movie_cuv_matrix = dict()\n",
    "\n",
    "        for user_id, movie_ids in self.dataset.items():\n",
    "            for i in movie_ids.keys():\n",
    "                movie_rate_count.setdefault(i, 0)\n",
    "                movie_rate_count[i] += 1\n",
    "\n",
    "                for j in movie_ids.keys():\n",
    "                    if i == j:\n",
    "                        continue\n",
    "\n",
    "                    movie_cuv_matrix.setdefault(i, dict())\n",
    "                    movie_cuv_matrix[i].setdefault(j, 0)\n",
    "                    movie_cuv_matrix[i][j] += 1\n",
    "        print('complete')\n",
    "\n",
    "        for i, movie_ids in movie_cuv_matrix.items():\n",
    "            self.movie_similarity.setdefault(i, dict())\n",
    "\n",
    "            for j, cuv in movie_ids.items():\n",
    "                similarity = cuv / math.sqrt(movie_rate_count[i] * movie_rate_count[j])\n",
    "                self.movie_similarity[i].setdefault(j, 0)\n",
    "                self.movie_similarity[i][j] = similarity\n",
    "                #print(similarity)\n",
    "        print('complete')\n",
    "                \n",
    "    def recommend(self, user_id):\n",
    "        \n",
    "        rank = dict()\n",
    "        top_n_movies = dict()\n",
    "        user_rate_movies = self.dataset.get(user_id, {})\n",
    "        \n",
    "        for i, rate in user_rate_movies.items():\n",
    "            #print(self.movie_similarity)\n",
    "            top_n_movies = dict(sorted(self.movie_similarity[i].items(),\n",
    "            key = lambda x:x[1], reverse = True)[0:10])\n",
    "\n",
    "            for j, similarity in top_n_movies.items():\n",
    "                if j in user_rate_movies:\n",
    "                    continue\n",
    "\n",
    "                rank.setdefault(j, 0)\n",
    "                rank[j] += rate * similarity\n",
    "\n",
    "        result = dict(sorted(rank.items(), key = lambda x:x[1], reverse = True)[0:5])\n",
    "        return result"
   ]
  },
  {
   "cell_type": "code",
   "execution_count": 10,
   "metadata": {},
   "outputs": [
    {
     "name": "stdout",
     "output_type": "stream",
     "text": [
      "complete\n",
      "complete\n",
      "complete\n",
      "start\n",
      "['movie_id', 'title', 'movie_type']\n",
      "Movie ID: 1196  / Title: Star Wars: Episode V - The Empire Strikes Back (1980)  / Rate: 24.670842979575504\n",
      "Movie ID: 364  / Title: Lion King, The (1994)  / Rate: 20.635769994037044\n",
      "Movie ID: 318  / Title: Shawshank Redemption, The (1994)  / Rate: 19.113343371149703\n",
      "Movie ID: 296  / Title: Pulp Fiction (1994)  / Rate: 19.072718148521417\n",
      "Movie ID: 2080  / Title: Lady and the Tramp (1955)  / Rate: 18.982200112615864\n"
     ]
    }
   ],
   "source": [
    "if __name__ == \"__main__\":\n",
    "    itemCF = ItemCF(('ml-1m/ratings.dat'))\n",
    "    print('start')\n",
    "    result = itemCF.recommend(1)\n",
    "    \n",
    "    movie_column_name = ['movie_id','title', 'movie_type']\n",
    "    print(movie_column_name)\n",
    "    movies = pd.read_table('ml-1m/movies.dat', sep = '::', header = None, names = movie_column_name, engine = 'python')\n",
    "    \n",
    "    movie_data = dict()\n",
    "    for row in movies.itertuples():\n",
    "        movie_id = getattr(row, 'movie_id')\n",
    "        title = getattr(row, 'title')\n",
    "        movie_data[movie_id] = title\n",
    "        \n",
    "    for movie_id, rate in result.items():\n",
    "        print('Movie ID:', movie_id, \" / Title:\", movie_data[movie_id], \" / Rate:\", rate)"
   ]
  },
  {
   "cell_type": "code",
   "execution_count": null,
   "metadata": {},
   "outputs": [],
   "source": []
  },
  {
   "cell_type": "code",
   "execution_count": null,
   "metadata": {},
   "outputs": [],
   "source": []
  }
 ],
 "metadata": {
  "kernelspec": {
   "display_name": "Python 3",
   "language": "python",
   "name": "python3"
  },
  "language_info": {
   "codemirror_mode": {
    "name": "ipython",
    "version": 3
   },
   "file_extension": ".py",
   "mimetype": "text/x-python",
   "name": "python",
   "nbconvert_exporter": "python",
   "pygments_lexer": "ipython3",
   "version": "3.8.8"
  }
 },
 "nbformat": 4,
 "nbformat_minor": 4
}